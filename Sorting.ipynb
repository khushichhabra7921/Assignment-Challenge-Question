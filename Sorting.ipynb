{
  "nbformat": 4,
  "nbformat_minor": 0,
  "metadata": {
    "colab": {
      "provenance": [],
      "authorship_tag": "ABX9TyPP+OsT85sDSRHwZikQQz7Y",
      "include_colab_link": true
    },
    "kernelspec": {
      "name": "python3",
      "display_name": "Python 3"
    },
    "language_info": {
      "name": "python"
    }
  },
  "cells": [
    {
      "cell_type": "markdown",
      "metadata": {
        "id": "view-in-github",
        "colab_type": "text"
      },
      "source": [
        "<a href=\"https://colab.research.google.com/github/khushichhabra7921/Assignment-Challenge-Question/blob/main/Sorting.ipynb\" target=\"_parent\"><img src=\"https://colab.research.google.com/assets/colab-badge.svg\" alt=\"Open In Colab\"/></a>"
      ]
    },
    {
      "cell_type": "code",
      "execution_count": 1,
      "metadata": {
        "colab": {
          "base_uri": "https://localhost:8080/"
        },
        "id": "MPHuyZofPVfg",
        "outputId": "e097cf19-8bcb-4fc4-b2bb-a8ea0c0b5c80"
      },
      "outputs": [
        {
          "output_type": "stream",
          "name": "stdout",
          "text": [
            "[1, 2, 3]\n",
            "['Ram', 'shyam', 'Aman']\n",
            "[1, 2, 3, 'Aman', 'Ram', 'shyam']\n"
          ]
        }
      ],
      "source": [
        "L=[1,\"Ram\",2,\"shyam\",3,\"Aman\"]\n",
        "L1=[]\n",
        "L2=[]\n",
        "for i in L:\n",
        "  if type(i)==int:\n",
        "    L1.append(int(i))\n",
        "  else:\n",
        "    L2.append(i)\n",
        "print(L1)\n",
        "print(L2)\n",
        "L1.sort()\n",
        "L2.sort()\n",
        "L3=L1+L2\n",
        "print(L3)"
      ]
    }
  ]
}